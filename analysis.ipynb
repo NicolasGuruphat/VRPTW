{
 "cells": [
  {
   "cell_type": "code",
   "execution_count": 30,
   "metadata": {},
   "outputs": [
    {
     "name": "stdout",
     "output_type": "stream",
     "text": [
      "[10.603235550100733, 1.707825127659933, 218.82641888035366, 74.19276442684591, 73.17849390737945, 8932.203900218585, 0.35213381294931745, 110472121246.64758]\n",
      "[10.603235550100734, 1.707825127659933, 218.82641888035366, 65.18856599250549, 70.28460197978461, 12662.600425710312, 0.32387171671649706, 152581787181.42758]\n",
      "[10.60323555010074, 1.707825127659933, 218.82641888035366, 64.76752551684807, 24.041266583540605, 40624.22827954633, 0.14183088521192422, 1346467527283.6653]\n",
      "[[-0.046372   -0.11952286 -0.046372   ... -0.12619203  0.07759953\n",
      "  -0.06439893]\n",
      " [-0.04599888 -0.11952286 -0.04599888 ... -0.14598147 -0.01514891\n",
      "  -0.00397459]\n",
      " [-0.04562575 -0.11952286 -0.04562575 ... -0.17073907 -0.01514891\n",
      "   0.19754733]\n",
      " ...\n",
      " [ 0.10175871  0.11952286  0.10175871 ...  0.03256686 -0.03833602\n",
      "   0.13054998]\n",
      " [ 0.13907124  0.11952286  0.13907124 ...  0.00522783 -0.03833602\n",
      "   0.14491172]\n",
      " [ 0.32563385  0.11952286  0.32563385 ... -0.02222638 -0.03833602\n",
      "   0.149862  ]]\n"
     ]
    },
    {
     "data": {
      "text/plain": [
       "5.7138653722250154"
      ]
     },
     "execution_count": 30,
     "metadata": {},
     "output_type": "execute_result"
    }
   ],
   "source": [
    "import numpy as np\n",
    "from math import sqrt, log\n",
    "import csv\n",
    "# import matplotlib as plt\n",
    "import matplotlib.pyplot as plt\n",
    "\n",
    "def centrer_reduire(l: list) -> list:\n",
    "    r = list()\n",
    "\n",
    "    n = len(l)\n",
    "\n",
    "    nb_crit = len(l[0])\n",
    "    sums = [0 for _ in range(nb_crit)]\n",
    "    squared_sums = [0 for _ in range(nb_crit)]\n",
    "\n",
    "    for i in range(n):\n",
    "        for j in range(nb_crit):\n",
    "            sums[j] += l[i][j]\n",
    "            squared_sums[j] += pow(l[i][j], 2)\n",
    "\n",
    "    g = [e / n for e in sums]\n",
    "\n",
    "    sigmas = [sqrt(squared_sums[j] / n - pow(g[j], 2)) for j in range(nb_crit)]\n",
    "\n",
    "    print(sigmas)\n",
    "\n",
    "    r = [[(row[j] - g[j]) / (sqrt(n) * sigmas[j]) for j in range(nb_crit)] for row in l]\n",
    "\n",
    "    return r\n",
    "\n",
    "opt_mapping = {\"R\": 0, \"RS\": 1, \"RE\": 2, \"RSE\": 3, \"RI\": 4, \"RISE\": 5}\n",
    "\n",
    "f5 = \"30_first_101/sim0.5.csv\"\n",
    "f6 = \"30_first_101/sim0.6.csv\"\n",
    "f9 = \"30_first_101/sim0.9.csv\"\n",
    "\n",
    "l5 = []\n",
    "l6 = []\n",
    "l9 = []\n",
    "\n",
    "with open(f5, \"r\") as f:\n",
    "    lines = f.read()\n",
    "    lines = lines.split(\"\\n\")\n",
    "    for row in lines[1:-1]:\n",
    "        split_row = row.split(\",\")\n",
    "        # MU,OPT_USED,N2,T0,F0,F_AVG,F_MIN,F_MAX,AVG_BEST_AT,MIN_BEST_AT,MAX_BEST_AT,INIT_NB_TRUCKS,AVG_NB_TRUCKS,MIN_NB_TRUCKS,MAX_NB_TRUCKS,AVG_EXEC_T,MIN_EXEC_T,MAX_EXEC_T\n",
    "        l = [\n",
    "            float(split_row[3]) * pow(float(split_row[0]), log(log(0.8) / log(0.01)) / log(float(split_row[0]))),\n",
    "            int(opt_mapping.get(split_row[1], -1)),\n",
    "            float(split_row[3]),\n",
    "            float(split_row[4]),\n",
    "            float(split_row[5]),\n",
    "            float(split_row[8]),\n",
    "            float(split_row[12]),\n",
    "            float(split_row[15]),\n",
    "        ]\n",
    "        l5.append(l)\n",
    "with open(f6, \"r\") as f:\n",
    "    lines = f.read()\n",
    "    lines = lines.split(\"\\n\")\n",
    "    for row in lines[1:-1]:\n",
    "        split_row = row.split(\",\")\n",
    "        # MU,OPT_USED,N2,T0,F0,F_AVG,F_MIN,F_MAX,AVG_BEST_AT,MIN_BEST_AT,MAX_BEST_AT,INIT_NB_TRUCKS,AVG_NB_TRUCKS,MIN_NB_TRUCKS,MAX_NB_TRUCKS,AVG_EXEC_T,MIN_EXEC_T,MAX_EXEC_T\n",
    "        l = [\n",
    "            float(split_row[3]) * pow(float(split_row[0]), log(log(0.8) / log(0.01)) / log(float(split_row[0]))),\n",
    "            int(opt_mapping.get(split_row[1], -1)),\n",
    "            float(split_row[3]),\n",
    "            float(split_row[4]),\n",
    "            float(split_row[5]),\n",
    "            float(split_row[8]),\n",
    "            float(split_row[12]),\n",
    "            float(split_row[15]),\n",
    "        ]\n",
    "        l6.append(l)\n",
    "with open(f9, \"r\") as f:\n",
    "    lines = f.read()\n",
    "    lines = lines.split(\"\\n\")\n",
    "    for row in lines[1:-1]:\n",
    "        split_row = row.split(\",\")\n",
    "        # MU,OPT_USED,N2,T0,F0,F_AVG,F_MIN,F_MAX,AVG_BEST_AT,MIN_BEST_AT,MAX_BEST_AT,INIT_NB_TRUCKS,AVG_NB_TRUCKS,MIN_NB_TRUCKS,MAX_NB_TRUCKS,AVG_EXEC_T,MIN_EXEC_T,MAX_EXEC_T\n",
    "        l = [\n",
    "            float(split_row[3]) * pow(float(split_row[0]), log(log(0.8) / log(0.01)) / log(float(split_row[0]))), # Temp finale\n",
    "            int(opt_mapping.get(split_row[1], -1)), # OPT used\n",
    "            float(split_row[3]), # temp init\n",
    "            float(split_row[4]), # fitness init\n",
    "            float(split_row[5]), # fitness finale \n",
    "            float(split_row[8]), # best at\n",
    "            float(split_row[12]), # nb trucks\n",
    "            float(split_row[15]), # exec time\n",
    "        ]\n",
    "        l9.append(l)\n",
    "\n",
    "# print(l5)\n",
    "# print(l6)\n",
    "# print(l9)\n",
    "\n",
    "r5 = centrer_reduire(l5)\n",
    "r6 = centrer_reduire(l6)\n",
    "r9 = centrer_reduire(l9)\n",
    "\n",
    "# plt.scatter([row[3] for row in l5], [row[4] for row in l5])\n",
    "# plt.scatter([row[3] for row in r5], [row[4] for row in r5])\n",
    "# plt.show()\n",
    "\n",
    "# print(sum([row[3] for row in r5]))\n",
    "# print(sum([row[4] for row in r5]))\n",
    "\n",
    "m5 = np.matrix(r5)\n",
    "m6 = np.matrix(r6)\n",
    "m9 = np.matrix(r9)\n",
    "\n",
    "print(m5)\n",
    "# iden = np.identity(len(l5)) * (1 / len(l5))\n",
    "c5 = np.dot(m5.transpose(), m5)\n",
    "c6 = np.dot(m6.transpose(), m6)\n",
    "c9 = np.dot(m9.transpose(), m9)\n",
    "# c5 = np.dot(c5_temp, m5)\n",
    "with open(\"out5.csv\", \"w\", newline=\"\") as f:\n",
    "    for row in np.array(c5):\n",
    "        csv.writer(f).writerow([\"%.2f\"%(float(e)) for e in row])\n",
    "with open(\"out6.csv\", \"w\", newline=\"\") as f:\n",
    "    for row in np.array(c6):\n",
    "        csv.writer(f).writerow([\"%.2f\"%(float(e)) for e in row])\n",
    "with open(\"out9.csv\", \"w\", newline=\"\") as f:\n",
    "    for row in np.array(c9):\n",
    "        csv.writer(f).writerow([\"%.2f\"%(float(e)) for e in row])\n",
    "\n",
    "\n",
    "f_temp = []\n",
    "f_f = []\n",
    "for e in l5 + l6 + l9:\n",
    "    f_temp.append(e[0])\n",
    "    f_f.append(e[4])\n",
    "\n",
    "l_temp_f = list(zip(f_temp, f_f))\n",
    "\n",
    "l_temp_f.sort(key = lambda x : x[1])\n",
    "\n",
    "avg = sum(l_tmp := [e[0] for e in l_temp_f if e[1] <= min([k[1] for k in l_temp_f])]) / len(l_tmp)\n",
    "\n",
    "avg"
   ]
  },
  {
   "cell_type": "code",
   "execution_count": 49,
   "metadata": {},
   "outputs": [
    {
     "data": {
      "text/plain": [
       "(0.24530492434501366, 5)"
      ]
     },
     "execution_count": 49,
     "metadata": {},
     "output_type": "execute_result"
    }
   ],
   "source": [
    "from math import log, exp, sqrt\n",
    "\n",
    "temp_final_target = 5\n",
    "# temp_final_target = 0.5\n",
    "\n",
    "delta_f = 224\n",
    "\n",
    "# n1 = sqrt(delta_f)\n",
    "n1 = log(delta_f)\n",
    "\n",
    "t_0 = (-delta_f) / log(0.8)\n",
    "\n",
    "mu = exp((log(temp_final_target) - log(t_0)) / n1)\n",
    "\n",
    "mu, int(n1)"
   ]
  },
  {
   "cell_type": "code",
   "execution_count": 50,
   "metadata": {},
   "outputs": [
    {
     "data": {
      "text/plain": [
       "13.565794730518169"
      ]
     },
     "execution_count": 50,
     "metadata": {},
     "output_type": "execute_result"
    }
   ],
   "source": [
    "mu = 0.8\n",
    "\n",
    "log(log(0.8) / log(0.01)) / log(mu)"
   ]
  }
 ],
 "metadata": {
  "kernelspec": {
   "display_name": "Python 3",
   "language": "python",
   "name": "python3"
  },
  "language_info": {
   "codemirror_mode": {
    "name": "ipython",
    "version": 3
   },
   "file_extension": ".py",
   "mimetype": "text/x-python",
   "name": "python",
   "nbconvert_exporter": "python",
   "pygments_lexer": "ipython3",
   "version": "3.11.3"
  }
 },
 "nbformat": 4,
 "nbformat_minor": 2
}
